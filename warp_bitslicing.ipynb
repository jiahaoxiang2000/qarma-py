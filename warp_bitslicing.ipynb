{
 "cells": [
  {
   "cell_type": "markdown",
   "metadata": {},
   "source": [
    "## bitslicing\n",
    "\n",
    "the warp cipher [detail](warp.ipynb)."
   ]
  },
  {
   "cell_type": "code",
   "execution_count": 2,
   "metadata": {},
   "outputs": [],
   "source": [
    "def integer_to_bitslicing(b0):\n",
    "    b0_b = bin(b0)[2:].zfill(128)\n",
    "    R0_b = \"\"\n",
    "    R1_b = \"\"\n",
    "    R2_b = \"\"\n",
    "    R3_b = \"\"\n",
    "    for i in range(0, len(b0_b), 4):\n",
    "        R0_b += b0_b[i]\n",
    "        R1_b += b0_b[i + 1]\n",
    "        R2_b += b0_b[i + 2]\n",
    "        R3_b += b0_b[i + 3]\n",
    "\n",
    "    return int(R0_b, 2), int(R1_b, 2), int(R2_b, 2), int(R3_b, 2)\n",
    "\n",
    "\n",
    "def bitslicing_to_integer(R0, R1, R2, R3):\n",
    "    R0_b = bin(R0)[2:].zfill(32)\n",
    "    R1_b = bin(R1)[2:].zfill(32)\n",
    "    R2_b = bin(R2)[2:].zfill(32)\n",
    "    R3_b = bin(R3)[2:].zfill(32)\n",
    "    b0_b = \"\"\n",
    "    for i in range(0, len(R0_b)):\n",
    "        b0_b += R0_b[i]\n",
    "        b0_b += R1_b[i]\n",
    "        b0_b += R2_b[i]\n",
    "        b0_b += R3_b[i]\n",
    "    return int(b0_b, 2)\n",
    "\n",
    "b0 = 0x0123456789abcdef0123456789abcdef\n",
    "r0, r1, r2, r3 = integer_to_bitslicing(b0)\n",
    "b = bitslicing_to_integer(r0, r1, r2, r3)\n",
    "assert b == b0"
   ]
  },
  {
   "cell_type": "markdown",
   "metadata": {},
   "source": [
    "## sbox \n",
    "\n",
    "$$\\begin{align}\n",
    "    T_{0}  & =  X_{0} \\land X_{1}  & T_{1}  & =  X_{0} \\land X_{2}  & T_{2}  & =  X_{2} \\lor T_{0}   \\nonumber       \\\\\n",
    "    T_{3}  & =  X_{0} \\lor X_{3}   & T_{4}  & =  X_{3} \\lor X_{1}   & T_{5}  & =  T_{2} \\land T_{3} \\nonumber       \\\\\n",
    "    T_{6}  & =  T_{2} \\oplus T_{0}  & T_{7}  & =  T_{4} \\land X_{0}  & T_{8}  & =  X_{1} \\lor T_{7}    \\nonumber      \\\\\n",
    "    T_{9}  & =  T_{7} \\oplus X_{1}  & T_{10} & =  \\sim T_{0}         & T_{11} & =  T_{4} \\oplus T_{0}        \\tag{1}          \\\\\n",
    "    T_{12} & =  T_{7} \\land X_{3}   & T_{13} & =  T_{9} \\land T_{3}  & T_{14} & =  T_{6} \\lor T_{13}       \\nonumber \\\\\n",
    "    T_{15} & =  T_{8} \\land X_{2}   & T_{16} & = \\sim T_{5}          & T_{17} & = \\sim T_{3}       \\nonumber \\\\\n",
    "    T_{18} & =  T_{11} \\oplus T_{12} & T_{19} & =  T_{15} \\lor T_{17} & Y_{0}  & = T_{16}                 \\nonumber    \\\\\n",
    "    Y_{1}  & = T_{19}               & Y_{2}  & = T_{18}              & Y_{3}  & = T_{14} \\nonumber\n",
    "\\end{align}\n",
    "$$"
   ]
  },
  {
   "cell_type": "code",
   "execution_count": 7,
   "metadata": {},
   "outputs": [
    {
     "name": "stdout",
     "output_type": "stream",
     "text": [
      "r0 = 0xff00ff r1 = 0xf0f0f0f r2 = 0x33333333 r3 = 0x55555555\n",
      "r0 = 0xeec0eec0 r1 = 0xab13ab13 r2 = 0x5f055f05 r3 = 0x37703770\n"
     ]
    }
   ],
   "source": [
    "S = [0xC, 0xA, 0xD, 0x3, 0xE, 0xB, 0xF, 0x7, 0x8, 0x9, 0x1, 0x5, 0x0, 0x2, 0x4, 0x6]\n",
    "def sbox(R0, R1, R2, R3):\n",
    "    r0, r1, r2, r3 = 0, 0, 0, 0\n",
    "    T = [0] * 20\n",
    "    # T_{0} =  X_{0} \\land X_{1} \n",
    "    T[0] = R0 & R1\n",
    "    # T_{1} =  X_{0} \\land X_{2}\n",
    "    T[1] = R0 & R2\n",
    "    # T_{2} =  X_{2} \\lor T_{0}\n",
    "    T[2] = R2 | T[0]\n",
    "    # T_{3} =  X_{0} \\lor X_{3} \n",
    "    T[3] = R0 | R3\n",
    "    # T_{4} =  X_{3} \\lor X_{1} \n",
    "    T[4] = R3 | R1\n",
    "    # T_{5} =  T_{2} \\land T_{3}\n",
    "    T[5] = T[2] & T[3]\n",
    "    # T_{6} =  T_{2} \\oplus T_{0}\n",
    "    T[6] = T[2] ^ T[0]\n",
    "    # T_{7} =  T_{4} \\land X_{0} \n",
    "    T[7] = T[4] & R0\n",
    "    # T_{8} =  X_{1} \\lor T_{7} \n",
    "    T[8] = R1 | T[7]\n",
    "    # T_{9} =  T_{7} \\oplus X_{1}\n",
    "    T[9] = T[7] ^ R1\n",
    "    # T_{10} = \\sim T_{0}\n",
    "    T[10] = T[0] ^ 0xFFFF_FFFF\n",
    "    # T_{11} =  T_{4} \\oplus T_{0} \n",
    "    T[11] = T[4] ^ T[0]\n",
    "    # T_{12} =  T_{7} \\land X_{3}\n",
    "    T[12] = T[7] & R3\n",
    "    # T_{13} =  T_{9} \\land T_{3}\n",
    "    T[13] = T[9] & T[3]\n",
    "    # T_{14} =  T_{6} \\lor T_{13} \n",
    "    T[14] = T[6] | T[13]\n",
    "    # T_{15} =  T_{8} \\land X_{2} \n",
    "    T[15] = T[8] & R2\n",
    "    # T_{16} = \\sim T_{5} \n",
    "    T[16] = T[5] ^ 0xFFFF_FFFF\n",
    "    # T_{17} = \\sim T_{3} \n",
    "    T[17] = T[3] ^ 0xFFFF_FFFF\n",
    "    # T_{18} =  T_{11} \\oplus T_{12} \n",
    "    T[18] = T[11] ^ T[12]\n",
    "    # T_{19} =  T_{15} \\lor T_{17} \n",
    "    T[19] = T[15] | T[17]\n",
    "    # Y_{0} = T_{16}\n",
    "    r0 = T[16]\n",
    "    # Y_{1} = T_{19}\n",
    "    r1 = T[19]\n",
    "    # Y_{2} = T_{18}\n",
    "    r2 = T[18]\n",
    "    # Y_{3} = T_{14}\n",
    "    r3 = T[14]\n",
    "\n",
    "    return r0, r1, r2, r3\n",
    "\n",
    "b0 = 0x0123456789abcdef0123456789abcdef\n",
    "r0, r1, r2, r3 = integer_to_bitslicing(b0)\n",
    "print(f'r0 = {hex(r0)} r1 = {hex(r1)} r2 = {hex(r2)} r3 = {hex(r3)}')\n",
    "r0, r1, r2, r3 = sbox(r0, r1, r2, r3)\n",
    "print(f'r0 = {hex(r0)} r1 = {hex(r1)} r2 = {hex(r2)} r3 = {hex(r3)}')\n",
    "b = bitslicing_to_integer(r0, r1, r2, r3)\n",
    "b_expected = 0xcad3ebf789150246cad3ebf789150246\n",
    "assert b == b_expected"
   ]
  },
  {
   "cell_type": "markdown",
   "metadata": {},
   "source": [
    "## permutation "
   ]
  },
  {
   "cell_type": "code",
   "execution_count": 8,
   "metadata": {},
   "outputs": [],
   "source": [
    "def right_cyclic_shift(n, bits, shift_amount):\n",
    "    return ((n >> shift_amount) | (n << (bits - shift_amount))) & ((1 << bits) - 1)\n",
    "\n",
    "\n",
    "def left_cyclic_shift(n, bits, shift_amount):\n",
    "    return ((n << shift_amount) | (n >> (bits - shift_amount))) & ((1 << bits) - 1)"
   ]
  },
  {
   "cell_type": "code",
   "execution_count": null,
   "metadata": {},
   "outputs": [],
   "source": []
  }
 ],
 "metadata": {
  "kernelspec": {
   "display_name": "misc",
   "language": "python",
   "name": "python3"
  },
  "language_info": {
   "codemirror_mode": {
    "name": "ipython",
    "version": 3
   },
   "file_extension": ".py",
   "mimetype": "text/x-python",
   "name": "python",
   "nbconvert_exporter": "python",
   "pygments_lexer": "ipython3",
   "version": "3.11.9"
  }
 },
 "nbformat": 4,
 "nbformat_minor": 2
}
