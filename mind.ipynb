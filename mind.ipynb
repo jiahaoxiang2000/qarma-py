{
 "cells": [
  {
   "cell_type": "code",
   "execution_count": 3,
   "metadata": {},
   "outputs": [
    {
     "name": "stdout",
     "output_type": "stream",
     "text": [
      "[0, 11, 6, 13, 10, 1, 12, 7, 5, 14, 3, 8, 15, 4, 9, 2]\n"
     ]
    }
   ],
   "source": [
    "p = [0, 11, 6, 13, 10, 1, 12, 7, 5, 14, 3, 8, 15, 4, 9, 2]\n",
    "\n",
    "def permutation(p, x):\n",
    "    t_x = list(x)\n",
    "    for i in range(16):\n",
    "        t_x[i] = x[p[i]]\n",
    "    return t_x\n",
    "\n",
    "x = [i for i in range(16)]\n",
    "print(permutation(p, x))"
   ]
  },
  {
   "cell_type": "code",
   "execution_count": 4,
   "metadata": {},
   "outputs": [
    {
     "name": "stdout",
     "output_type": "stream",
     "text": [
      "round 0 : [0, 1, 2, 3, 4, 5, 6, 7, 8, 9, 10, 11, 12, 13, 14, 15]\n",
      "round 1 : [0, 11, 6, 13, 10, 1, 12, 7, 5, 14, 3, 8, 15, 4, 9, 2]\n",
      "round 2 : [0, 8, 12, 4, 3, 11, 15, 7, 1, 9, 13, 5, 2, 10, 14, 6]\n",
      "round 3 : [0, 5, 15, 10, 13, 8, 2, 7, 11, 14, 4, 1, 6, 3, 9, 12]\n",
      "round 4 : [0, 1, 2, 3, 4, 5, 6, 7, 8, 9, 10, 11, 12, 13, 14, 15]\n"
     ]
    }
   ],
   "source": [
    "x = [i for i in range(16)]\n",
    "for i in range(5):\n",
    "    print(f'round {i} : {x}')\n",
    "    x = permutation(p, x)"
   ]
  }
 ],
 "metadata": {
  "kernelspec": {
   "display_name": "cipher",
   "language": "python",
   "name": "python3"
  },
  "language_info": {
   "codemirror_mode": {
    "name": "ipython",
    "version": 3
   },
   "file_extension": ".py",
   "mimetype": "text/x-python",
   "name": "python",
   "nbconvert_exporter": "python",
   "pygments_lexer": "ipython3",
   "version": "3.11.7"
  }
 },
 "nbformat": 4,
 "nbformat_minor": 2
}
