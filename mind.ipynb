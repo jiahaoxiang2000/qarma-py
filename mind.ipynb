{
 "cells": [
  {
   "cell_type": "code",
   "execution_count": 3,
   "metadata": {},
   "outputs": [
    {
     "name": "stdout",
     "output_type": "stream",
     "text": [
      "[0, 11, 6, 13, 10, 1, 12, 7, 5, 14, 3, 8, 15, 4, 9, 2]\n"
     ]
    }
   ],
   "source": [
    "p = [0, 11, 6, 13, 10, 1, 12, 7, 5, 14, 3, 8, 15, 4, 9, 2]\n",
    "\n",
    "def permutation(p, x):\n",
    "    t_x = list(x)\n",
    "    for i in range(16):\n",
    "        t_x[i] = x[p[i]]\n",
    "    return t_x\n",
    "\n",
    "x = [i for i in range(16)]\n",
    "print(permutation(p, x))"
   ]
  },
  {
   "cell_type": "code",
   "execution_count": 4,
   "metadata": {},
   "outputs": [
    {
     "name": "stdout",
     "output_type": "stream",
     "text": [
      "round 0 : [0, 1, 2, 3, 4, 5, 6, 7, 8, 9, 10, 11, 12, 13, 14, 15]\n",
      "round 1 : [0, 11, 6, 13, 10, 1, 12, 7, 5, 14, 3, 8, 15, 4, 9, 2]\n",
      "round 2 : [0, 8, 12, 4, 3, 11, 15, 7, 1, 9, 13, 5, 2, 10, 14, 6]\n",
      "round 3 : [0, 5, 15, 10, 13, 8, 2, 7, 11, 14, 4, 1, 6, 3, 9, 12]\n",
      "round 4 : [0, 1, 2, 3, 4, 5, 6, 7, 8, 9, 10, 11, 12, 13, 14, 15]\n"
     ]
    }
   ],
   "source": [
    "x = [i for i in range(16)]\n",
    "for i in range(5):\n",
    "    print(f'round {i} : {x}')\n",
    "    x = permutation(p, x)"
   ]
  },
  {
   "cell_type": "code",
   "execution_count": 36,
   "metadata": {},
   "outputs": [
    {
     "name": "stdout",
     "output_type": "stream",
     "text": [
      "round 0   : 0x243f6a8885a308d3\n",
      "round 1   : 0x3b92eeee967a1ffd\n",
      "round 0   : 0x243f6a8885a308d3\n",
      "round 1   : 0x3ab2ee7e943a1fb5\n"
     ]
    }
   ],
   "source": [
    "a0 = 0x243F6A8885A308D3\n",
    "\n",
    "def PSI(input):\n",
    "    spill = input >> 51\n",
    "    tmp = (input << 13) & ((1 << 64) - 1) ^ (spill << 50) ^ (spill << 33) ^ (spill << 19) ^ spill\n",
    "    spill = tmp >> 54\n",
    "    tmp = (tmp << 10) & ((1 << 64) - 1) ^ (spill << 50) ^ (spill << 33) ^ (spill << 19) ^ spill\n",
    "    return tmp\n",
    "\n",
    "def PSI1(input):\n",
    "    spill = input >> 41\n",
    "    tmp = (input << 23) & ((1 << 64) - 1) ^ ((spill << 50) & ((1 << 64) - 1)) ^ ((spill << 33)  & ((1 << 64) - 1)) ^ ((spill << 19) & ((1 << 64) - 1)) ^ spill\n",
    "\n",
    "    return tmp\n",
    "\n",
    "a1 = a0\n",
    "for i in range(2):\n",
    "    print(f'round {i}   : {hex(a1)}')\n",
    "    a1 = PSI(a1)\n",
    "\n",
    "a1 = a0\n",
    "for i in range(2):\n",
    "    print(f'round {i}   : {hex(a1)}')\n",
    "    a1 = PSI1(a1)"
   ]
  },
  {
   "cell_type": "code",
   "execution_count": 30,
   "metadata": {},
   "outputs": [
    {
     "name": "stdout",
     "output_type": "stream",
     "text": [
      "0x487ed5110b4611a7\n",
      "0x90fdaa22168c234f\n",
      "0x21fb54442d18469e\n",
      "0x43f6a8885a308d3d\n",
      "0x87ed5110b4611a7b\n",
      "0xfdaa22168c234f7\n",
      "0x1fb54442d18469ee\n",
      "0x3f6a8885a308d3dd\n",
      "0x7ed5110b4611a7ba\n",
      "0xfdaa22168c234f75\n",
      "0xfb54442d18469eea\n",
      "0xf6a8885a308d3dd5\n",
      "0xed5110b4611a7baa\n",
      "0xdaa22168c234f755\n",
      "0xb54442d18469eeab\n",
      "0x6a8885a308d3dd56\n",
      "0xd5110b4611a7baad\n",
      "0xaa22168c234f755a\n",
      "0x54442d18469eeab5\n",
      "0xa8885a308d3dd56b\n",
      "0x5110b4611a7baad6\n",
      "0xa22168c234f755ad\n",
      "0x4442d18469eeab5a\n",
      "0x8885a308d3dd56b4\n",
      "0x8885a308d3dd56b4\n"
     ]
    }
   ],
   "source": [
    "class LFSR:\n",
    "    def __init__(self, seed):\n",
    "        self.state = seed\n",
    "\n",
    "    def next(self):\n",
    "        self.state = self.state & ((1 << 64) - 1)\n",
    "        bit = ((self.state >> 63) ^ (self.state >> 49) ^ (self.state >> 32) ^ (self.state >> 18)) & 1\n",
    "        self.state = (self.state << 1) | bit\n",
    "        return self.state & ((1 << 64) - 1)\n",
    "\n",
    "# Usage:\n",
    "lfsr = LFSR(seed=0x243F6A8885A308D3)\n",
    "for _ in range(24):\n",
    "    print(hex(lfsr.next()))\n",
    "print(hex(lfsr.state & ((1 << 64) - 1)))"
   ]
  }
 ],
 "metadata": {
  "kernelspec": {
   "display_name": "cipher",
   "language": "python",
   "name": "python3"
  },
  "language_info": {
   "codemirror_mode": {
    "name": "ipython",
    "version": 3
   },
   "file_extension": ".py",
   "mimetype": "text/x-python",
   "name": "python",
   "nbconvert_exporter": "python",
   "pygments_lexer": "ipython3",
   "version": "3.11.7"
  }
 },
 "nbformat": 4,
 "nbformat_minor": 2
}
